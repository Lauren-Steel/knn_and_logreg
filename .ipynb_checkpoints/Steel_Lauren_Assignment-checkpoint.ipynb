{
 "cells": [
  {
   "cell_type": "markdown",
   "metadata": {},
   "source": [
    "Lauren Steel - 20218337\n",
    "\n",
    "October 14, 2024 \n",
    "\n",
    "## CMPE 251 Assignment 2 Part 2: Coding \n",
    "\n",
    "\n",
    "The objective of this assignment is to assess your understanding and implementation skills in two fundamental classification algorithms: K-Nearest Neighbors (KNN) and Logistic Regression. You will be required to perform data preprocessing, implement KNN from scratch, and use Logistic Regression with the scikit-learn library on the same dataset.\n",
    "\n",
    "\n",
    "We will be using the Breast Cancer Wisconsin (Diagnostic) Dataset, which is available in the sklearn.datasets library. This dataset consists of 30 features and a binary target variable indicating whether a given cancer diagnosis is benign (0) or malignant (1)."
   ]
  },
  {
   "cell_type": "code",
   "execution_count": 1,
   "metadata": {},
   "outputs": [],
   "source": [
    "import numpy as np\n",
    "from sklearn.metrics import accuracy_score, precision_score, recall_score, f1_score\n",
    "from sklearn.linear_model import LogisticRegression\n",
    "\n",
    "from sklearn.preprocessing import StandardScaler\n",
    "from sklearn.model_selection import train_test_split\n",
    "from collections import Counter \n",
    "\n",
    "from sklearn.datasets import load_breast_cancer"
   ]
  },
  {
   "cell_type": "markdown",
   "metadata": {},
   "source": [
    "## Question 1: KNN Implementation from Scratch (5 points)\n",
    "\n",
    "1. Data Preprocessing:\n",
    "\n",
    "a) Load the Breast Cancer dataset from sklearn.datasets.\n",
    "\n",
    "b) Normalize the feature data so that all features have a mean of 0 and a standard deviation\n",
    "of 1.\n",
    "\n",
    "c) Split the dataset into training (70%) and testing (30%) sets."
   ]
  },
  {
   "cell_type": "code",
   "execution_count": 2,
   "metadata": {},
   "outputs": [],
   "source": [
    "# (part a) load the breast cancer dataset \n",
    "data = load_breast_cancer()\n",
    "x = data.data\n",
    "y = data.target\n",
    "\n",
    "# (part b) apply standardization \n",
    "scaler = StandardScaler()\n",
    "scaled = scaler.fit_transform(x)\n",
    "\n",
    "# (part c) split the dataset into training and test sets \n",
    "x_train, x_test, y_train, y_test = train_test_split(scaled, y, test_size=0.3, random_state=42)\n"
   ]
  },
  {
   "cell_type": "markdown",
   "metadata": {},
   "source": [
    "2. KNN Implementation:\n",
    "\n",
    "a) Implement the KNN algorithm from scratch without using sklearn or any other library functions for the classifier. The implementation should include:\n",
    "\n",
    "-   Calculating the Euclidean distance between data points.\n",
    "-   Finding the nearest neighbors for a given test point.\n",
    "-   Predicting the class based on majority voting among the nearest neighbors.\n"
   ]
  },
  {
   "cell_type": "code",
   "execution_count": 3,
   "metadata": {},
   "outputs": [],
   "source": [
    "# (part a) implementing the knn algorithm from scratch \n",
    "# function defn for euclidean distance calculations \n",
    "def euclidean_distance(x1, x2):\n",
    "    euc_dist = np.sqrt(np.sum((x1 - x2) ** 2))\n",
    "    return euc_dist\n",
    "\n",
    "# function for finding the nearest neighbor \n",
    "def nearest_neighbor(x_train, y_train, Xtest, k):\n",
    "    distances = []\n",
    "    for i, Xtrain in enumerate(x_train):\n",
    "        dist = euclidean_distance(Xtest, Xtrain)\n",
    "        distances.append((dist, y_train[i]))\n",
    "\n",
    "    distances.sort(key=lambda x: x[0])\n",
    "    return [label for _, label in distances[:k]]\n",
    "\n",
    "# function for predicting the majority class\n",
    "def prediction(neighbors):  \n",
    "    class_count = Counter(neighbors)\n",
    "    majority = class_count.most_common(1)[0][0]\n",
    "    return majority\n",
    "\n",
    "# K nearest neighbors algorithm \n",
    "def knn(x_train, y_train, x_test, k=3):\n",
    "    y_prediction = []\n",
    "    for Xtest in x_test:\n",
    "        neighbors = nearest_neighbor(x_train, y_train, Xtest, k)\n",
    "        predict = prediction(neighbors)\n",
    "        y_prediction.append(predict)\n",
    "    return y_prediction "
   ]
  },
  {
   "cell_type": "markdown",
   "metadata": {},
   "source": [
    "\n",
    "b) Evaluate your KNN model on the testing set using the following metrics:\n",
    "- Accuracy"
   ]
  },
  {
   "cell_type": "code",
   "execution_count": 4,
   "metadata": {},
   "outputs": [],
   "source": [
    "# (part b) compare the correct predictions against total predictions made \n",
    "def acc(true_val, y_prediction):\n",
    "    correct = np.sum(true_val == y_prediction)\n",
    "    accuracy = correct / len(true_val)\n",
    "    return accuracy"
   ]
  },
  {
   "cell_type": "markdown",
   "metadata": {},
   "source": [
    "3. Parameter Tuning:\n",
    "\n",
    "a) Experiment with different values of k (number of neighbors) and find the optimal k value that gives the best performance on the test set."
   ]
  },
  {
   "cell_type": "code",
   "execution_count": 5,
   "metadata": {},
   "outputs": [
    {
     "name": "stdout",
     "output_type": "stream",
     "text": [
      "Accuracy using k=1: 95.32%\n",
      "Accuracy using k=3: 95.91%\n",
      "Accuracy using k=5: 95.91%\n",
      "Accuracy using k=7: 95.91%\n",
      "Accuracy using k=9: 97.08%\n",
      "Accuracy using k=11: 95.91%\n",
      "Accuracy using k=13: 95.91%\n",
      "Accuracy using k=15: 95.32%\n",
      "The highest accuracy of the model is 97.08% with the optimal k value being 9\n"
     ]
    }
   ],
   "source": [
    "# (part c) experiment with different values of k\n",
    "# test various different k values calculating their respective success rates\n",
    "def k_testing(x_train, y_train, x_test, y_test, k_vals):\n",
    "    optimal_k = None \n",
    "    highest_acc = 0\n",
    "    for k in k_vals:\n",
    "        y_prediction = knn(x_train, y_train, x_test, k)\n",
    "        acc_dec = acc(y_test, y_prediction)\n",
    "        acc_perc = acc_dec * 100\n",
    "\n",
    "        # print all of the k values with their associated accuracy percentage \n",
    "        print(f\"Accuracy using k={k}: {acc_perc:.2f}%\")\n",
    "        if acc_perc > highest_acc:\n",
    "            highest_acc = acc_perc\n",
    "            optimal_k = k\n",
    "\n",
    "    # print the optimal k value and it's success \n",
    "    print(f\"The highest accuracy of the model is {highest_acc:.2f}% with the optimal k value being {optimal_k}\")\n",
    "    return optimal_k, highest_acc\n",
    "\n",
    "# set the possible k values to be any odd number btwn 1 and 15\n",
    "k_vals = [1, 3, 5, 7, 9, 11, 13, 15]\n",
    "optimal_k, highest_acc = k_testing(x_train, y_train, x_test, y_test, k_vals)\n",
    "\n",
    "# establish y_prediction_knn for future metric calculations \n",
    "y_prediction_knn = knn(x_train, y_train, x_test, k=optimal_k)"
   ]
  },
  {
   "cell_type": "markdown",
   "metadata": {},
   "source": [
    "## Question 2: Logistic Regression using sklearn (5 points)\n",
    "\n",
    "1. Data Preprocessing:\n",
    "\n",
    "a) Reuse the same normalized and split data from Part 1.\n",
    "\n",
    "2. Model Implementation:\n",
    "\n",
    "a) Implement Logistic Regression using the sklearn library.\n",
    "\n",
    "b) Fit the model on the training data and make predictions on the test data."
   ]
  },
  {
   "cell_type": "code",
   "execution_count": 6,
   "metadata": {},
   "outputs": [],
   "source": [
    "# (part a)initialize a logistic regression model\n",
    "logisticModel = LogisticRegression(penalty=None)\n",
    "\n",
    "# (part b) fit the model\n",
    "logisticModel.fit(x_train, y_train)\n",
    "\n",
    "# make predictions on the test data \n",
    "y_prediction_logr = logisticModel.predict(x_test)"
   ]
  },
  {
   "cell_type": "markdown",
   "metadata": {},
   "source": [
    "3. Model Evaluation:\n",
    "\n",
    "a) Evaluate the model using the same metrics as in Part 1 (accuracy, precision, recall, F1- score)."
   ]
  },
  {
   "cell_type": "code",
   "execution_count": 7,
   "metadata": {},
   "outputs": [
    {
     "name": "stdout",
     "output_type": "stream",
     "text": [
      "Log reg accuracy: 95.321637%\n",
      "Log reg precision: 99.019608%\n",
      "Log reg recall: 93.518519%\n",
      "Log reg f1 score: 96.190476%\n"
     ]
    }
   ],
   "source": [
    "# (part a) evaluate the model with various metrics\n",
    "# calculate the accuracy, precision, recall and f1 score for log reg using sklearn metrics library \n",
    "acc_logr = accuracy_score(y_test, y_prediction_logr)\n",
    "precision_logr = precision_score(y_test, y_prediction_logr)\n",
    "recall_logr = recall_score(y_test, y_prediction_logr)\n",
    "f1_score_logr = f1_score(y_test, y_prediction_logr)\n",
    "\n",
    "# print the metric outputs \n",
    "print(f\"Log reg accuracy: {acc_logr * 100:2f}%\")\n",
    "print(f\"Log reg precision: {precision_logr * 100:2f}%\")\n",
    "print(f\"Log reg recall: {recall_logr * 100:2f}%\")\n",
    "print(f\"Log reg f1 score: {f1_score_logr * 100:2f}%\")"
   ]
  },
  {
   "cell_type": "markdown",
   "metadata": {},
   "source": [
    "b) Compare the performance of Logistic Regression to the KNN model."
   ]
  },
  {
   "cell_type": "code",
   "execution_count": 8,
   "metadata": {},
   "outputs": [
    {
     "name": "stdout",
     "output_type": "stream",
     "text": [
      "Knn accuracy: 97.076023%\n",
      "Knn precision: 97.247706%\n",
      "Knn recall: 98.148148%\n",
      "Knn f1 score: 97.695853%\n"
     ]
    }
   ],
   "source": [
    "# (part b) compare the performance of log reg and knn\n",
    "# calculate the precision, recall and f1 score for knn using sklearn metrics library \n",
    "precision_knn = precision_score(y_test, y_prediction_knn)\n",
    "recall_knn = recall_score(y_test, y_prediction_knn)\n",
    "f1_score_knn = f1_score(y_test, y_prediction_knn)\n",
    "\n",
    "# print the metric outputs \n",
    "print(f\"Knn accuracy: {highest_acc:2f}%\")\n",
    "print(f\"Knn precision: {precision_knn * 100:2f}%\")\n",
    "print(f\"Knn recall: {recall_knn * 100:2f}%\")\n",
    "print(f\"Knn f1 score: {f1_score_knn * 100:2f}%\")"
   ]
  }
 ],
 "metadata": {
  "kernelspec": {
   "display_name": "CMPE251",
   "language": "python",
   "name": "cmpe251"
  },
  "language_info": {
   "codemirror_mode": {
    "name": "ipython",
    "version": 3
   },
   "file_extension": ".py",
   "mimetype": "text/x-python",
   "name": "python",
   "nbconvert_exporter": "python",
   "pygments_lexer": "ipython3",
   "version": "3.9.19"
  }
 },
 "nbformat": 4,
 "nbformat_minor": 4
}
